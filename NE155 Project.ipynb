{
 "cells": [
  {
   "cell_type": "code",
   "execution_count": 2,
   "id": "2d158a9f",
   "metadata": {},
   "outputs": [],
   "source": [
    "import numpy as np\n",
    "import matplotlib.pyplot as plt\n",
    "from collections import defaultdict"
   ]
  },
  {
   "cell_type": "code",
   "execution_count": 22,
   "id": "98993a8d",
   "metadata": {},
   "outputs": [],
   "source": [
    "# have 2 rectangular sections of Pu_239 and Ca_40 (testing fission and n, alpha cross-sections) (cross-sections sourced from ENDF at 1 MeV)\n",
    "sig_fPu = 772.71246e-24 # cm^2, Pu is in thermal cross-sections\n",
    "sig_aPu = 278.0934e-24 + 772.71246e-24 # cm^2; includes all non-scattering collisions\n",
    "sig_tPu = 1058.8896e-24\n",
    "rho_Pu = 19.84 # g/cc\n",
    "\n",
    "sig_alphCa = 0.002576135e-24 # cm^2, Pu is in thermal cross-sections\n",
    "sig_aCa = 0.4256061e-24 + 0.002576135e-24 # cm^2\n",
    "sig_tCa = 3.0945628e-24\n",
    "rho_Ca = 1.526 # g/cc\n",
    "perc_Ca40 = .969\n",
    "\n",
    "\n",
    "def MacroXS(rho, A, sig, perc=1):\n",
    "    return rho*6.022e23/239 * sig * perc\n",
    "\n",
    "shield = [(MacroXS(rho_Pu, 239, sig_tPu), MacroXS(rho_Pu, 239, sig_aPu),MacroXS(rho_Pu, 239, sig_fPu), .1), # plutonium\n",
    "        (MacroXS(rho_Ca, 239, sig_tCa, perc_Ca40), MacroXS(rho_Ca, 239, sig_aCa, perc_Ca40),MacroXS(rho_Ca, 239, sig_alphCa, perc_Ca40), .1)\n",
    "        ] # an array of Sigma_t's, Sigma_a's, Sigma_f/Sigma_alpha's and thicknesses\n",
    "\n",
    "def slab_rxn_basic(Nparticles):\n",
    "    transmitted, reflected, absorbed, spec_abs = 0, 0, 0, 0\n",
    "    for _ in range(int(Nparticles)):\n",
    "        x, mu, region = 0.0, 1.0, 0\n",
    "        while True:\n",
    "            Sig_t, Sig_a, Sig_Special, thickness = shield[region]\n",
    "            l = -np.log(1-np.random.random())/Sig_t\n",
    "            x += l*mu\n",
    "            \n",
    "            if 0 <= x < thickness:  # scatter or absorption\n",
    "                if np.random.random() < Sig_a/Sig_t:\n",
    "                    absorbed += 1\n",
    "                    if np.random.random() < Sig_Special/Sig_a:\n",
    "                        spec_abs += 1\n",
    "                    break\n",
    "                mu = np.random.uniform(-1,1)  # pick new mu\n",
    "            elif x >= thickness:  # go to next region\n",
    "                if region == len(shield)-1: # check if fully through shield\n",
    "                    transmitted += 1\n",
    "                    break\n",
    "                region += 1\n",
    "                x = 0.0\n",
    "            else:  # Backward\n",
    "                if region == 0:\n",
    "                    reflected += 1\n",
    "                    break\n",
    "                region -= 1\n",
    "                x = thickness-x # start particle where it would have scattered back to in previous region\n",
    "    return transmitted, reflected, absorbed, spec_abs\n",
    "\n",
    "def slab_rxn_implicit(Nparticles, weight_cutoff=.25, weight_survival=1):\n",
    "    transmitted, reflected, absorbed = 0,0, 0\n",
    "    for i in range(int(Nparticles)):\n",
    "        x, mu, region, weight = 0.0, 1.0, 0, 1.0\n",
    "        while weight > 0:\n",
    "            Sig_t, Sig_a, Sig_Special, thickness = shield[region]\n",
    "            # Implicit capture\n",
    "            absorption_prob = Sig_a/Sig_t\n",
    "            weight *= (1 - absorption_prob)          \n",
    "            l = -np.log(1-np.random.random())/Sig_t\n",
    "            x += l*mu\n",
    "\n",
    "            # Russian roulette\n",
    "            if weight < weight_cutoff:\n",
    "                if np.random.random() < (1-weight/weight_survival): # kill the particle\n",
    "                    break\n",
    "                else:\n",
    "                    weight=weight_survival\n",
    "            \n",
    "            if 0 <= x < thickness:  # Scatter\n",
    "                mu = np.random.uniform(-1,1)\n",
    "            elif x >= thickness:  # escape\n",
    "                if region == len(shield)-1:\n",
    "                    transmitted += weight\n",
    "                    break\n",
    "                region += 1\n",
    "                x = 0.0\n",
    "            else:  # reflection\n",
    "                if region == 0:\n",
    "                    reflected += weight\n",
    "                    break\n",
    "                region -= 1\n",
    "                x = thickness-x     \n",
    "    absorbed = Nparticles - transmitted - reflected\n",
    "    spec_abs = absorbed * (Sig_Special/Sig_a)\n",
    "    return transmitted, reflected, absorbed, spec_abs"
   ]
  },
  {
   "cell_type": "code",
   "execution_count": 21,
   "id": "9a87e99b",
   "metadata": {},
   "outputs": [
    {
     "name": "stdout",
     "output_type": "stream",
     "text": [
      "With the basic solver, the probability that a particle is transmitted is 55, reflected is 15, and absorbed 9930. Special absorptions are 7359.\n",
      "With implicit capture, the probability that a particle is transmitted is 0, reflected is 1, and absorbed 9999. Special absorptions are 7352.787209941901.\n"
     ]
    }
   ],
   "source": [
    "basic = slab_rxn_basic(10000)\n",
    "implicit = slab_rxn_implicit(10000)\n",
    "\n",
    "print(f\"With the basic solver, the probability that a particle is transmitted is {basic[0]}, reflected is {basic[1]}, and absorbed {basic[2]}. Special absorptions are {basic[3]}.\")\n",
    "print(f\"With implicit capture, the probability that a particle is transmitted is {implicit[0]}, reflected is {implicit[1]}, and absorbed {implicit[2]}. Special absorptions are {implicit[3]}.\")"
   ]
  },
  {
   "cell_type": "code",
   "execution_count": 28,
   "id": "ae17d83f",
   "metadata": {},
   "outputs": [],
   "source": [
    "# in order to simulate layers and their specific reactions better as well as to actually simulate the conditions in \n",
    "shield1 = [MacroXS(rho_Pu, 239, sig_tPu), MacroXS(rho_Pu, 239, sig_aPu),MacroXS(rho_Pu, 239, sig_fPu), .1]\n",
    "shield2 = [MacroXS(rho_Ca, 239, sig_tCa, perc_Ca40), MacroXS(rho_Ca, 239, sig_aCa, perc_Ca40),MacroXS(rho_Ca, 239, sig_alphCa, perc_Ca40), .1]\n",
    "\n",
    "def slab_rxn_implicit(Nparticles, shield, weight_cutoff=.25, weight_survival=1):\n",
    "    transmitted, reflected, absorbed = 0,0, 0\n",
    "    for i in range(int(Nparticles)):\n",
    "        x, mu, weight = 0.0, np.random.random(), 1.0 # because there's a point source in the middle of the 2 layers, the scattering angle on either side will be from [0,1] \n",
    "        while weight > 0:\n",
    "            Sig_t, Sig_a, Sig_Special, thickness = shield\n",
    "            # Implicit capture\n",
    "            absorption_prob = Sig_a/Sig_t\n",
    "            weight *= (1 - absorption_prob)          \n",
    "            l = -np.log(1-np.random.random())/Sig_t\n",
    "            x += l*mu\n",
    "\n",
    "            # Russian roulette\n",
    "            if weight < weight_cutoff:\n",
    "                if np.random.random() < (1-weight/weight_survival): # kill the particle\n",
    "                    break\n",
    "                else:\n",
    "                    weight=weight_survival\n",
    "            \n",
    "            if 0 <= x < thickness:  # Scatter\n",
    "                mu = np.random.uniform(-1,1)\n",
    "            elif x >= thickness:  # escape\n",
    "                transmitted += weight\n",
    "                break\n",
    "            else:  # reflection\n",
    "                reflected += weight\n",
    "                break  \n",
    "    absorbed = Nparticles - transmitted - reflected\n",
    "    spec_abs = absorbed * (Sig_Special/Sig_a)\n",
    "    return transmitted, reflected, absorbed, spec_abs"
   ]
  },
  {
   "cell_type": "code",
   "execution_count": 32,
   "id": "53ef6552",
   "metadata": {},
   "outputs": [
    {
     "name": "stdout",
     "output_type": "stream",
     "text": [
      "For the plutonium layer, the probability that a particle is transmitted is 0.0, reflected is 0.0001, and absorbed 0.9999. Fissions are around 0.7352.\n",
      "For the calcium layer, the probability that a particle is transmitted is 0.8577, reflected is 0.0028, and absorbed 0.1394. (n,alpha) reactions are around 0.0008.\n"
     ]
    }
   ],
   "source": [
    "# Testing 20000 neutrons from the source, split in half\n",
    "Pu_implicit = slab_rxn_implicit(10000, shield1)\n",
    "Ca_implicit = slab_rxn_implicit(10000, shield2)\n",
    "print(f\"For the plutonium layer, the probability that a particle is transmitted is {int(Pu_implicit[0])/10000}, reflected is {int(Pu_implicit[1])/10000}, and absorbed {int(Pu_implicit[2])/10000}. Fissions are around {int(Pu_implicit[3])/10000}.\")\n",
    "print(f\"For the calcium layer, the probability that a particle is transmitted is {int(Ca_implicit[0])/10000}, reflected is {int(Ca_implicit[1])/10000}, and absorbed {int(Ca_implicit[2])/10000}. (n,alpha) reactions are around {int(Ca_implicit[3])/10000}.\")\n"
   ]
  },
  {
   "cell_type": "markdown",
   "id": "b0501f63",
   "metadata": {},
   "source": [
    "This is an incredibly simplisitic view because it does not take into account how fissions create new neutrons, only treats slabs as 1-dimensional, reflections don't reflect to the other slab "
   ]
  }
 ],
 "metadata": {
  "kernelspec": {
   "display_name": "Python 3 (ipykernel)",
   "language": "python",
   "name": "python3"
  },
  "language_info": {
   "codemirror_mode": {
    "name": "ipython",
    "version": 3
   },
   "file_extension": ".py",
   "mimetype": "text/x-python",
   "name": "python",
   "nbconvert_exporter": "python",
   "pygments_lexer": "ipython3",
   "version": "3.9.13"
  }
 },
 "nbformat": 4,
 "nbformat_minor": 5
}
