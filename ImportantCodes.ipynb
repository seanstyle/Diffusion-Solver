{
 "cells": [
  {
   "cell_type": "code",
   "execution_count": 1,
   "id": "9fc4fe2e",
   "metadata": {},
   "outputs": [],
   "source": [
    "class Material:\n",
    "    def __init__(self, name, density, atomic_mass, cross_sections):\n",
    "        \"\"\"\n",
    "        name: Material name\n",
    "        density: g/cm^3\n",
    "        atomic_mass: g/mol\n",
    "        cross_sections: Dictionary of {reaction_type: cross_section (barns)}\n",
    "        \"\"\"\n",
    "        self.name = name\n",
    "        self.density = density  # g/cm^3\n",
    "        self.atomic_mass = atomic_mass  # g/mol\n",
    "        self.cross_sections = cross_sections  # barns\n",
    "        self.atom_density = density * AVOGADRO / atomic_mass  # atoms/cm^3\n",
    "        \n",
    "    def macro_xs(self, reaction):\n",
    "        \"\"\"Returns macroscopic cross-section in cm^-1\"\"\"\n",
    "        return self.atom_density * self.cross_sections.get(reaction, 0) * BARN_TO_CM2\n",
    "        \n",
    "    def total_macro_xs(self):\n",
    "        \"\"\"Returns total macroscopic cross-section in cm^-1\"\"\"\n",
    "        return sum(xs * BARN_TO_CM2 for xs in self.cross_sections.values()) * self.atom_density\n"
   ]
  }
 ],
 "metadata": {
  "kernelspec": {
   "display_name": "Python 3",
   "language": "python",
   "name": "python3"
  },
  "language_info": {
   "codemirror_mode": {
    "name": "ipython",
    "version": 3
   },
   "file_extension": ".py",
   "mimetype": "text/x-python",
   "name": "python",
   "nbconvert_exporter": "python",
   "pygments_lexer": "ipython3",
   "version": "3.12.3"
  }
 },
 "nbformat": 4,
 "nbformat_minor": 5
}
